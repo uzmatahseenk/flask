{
 "cells": [
  {
   "cell_type": "code",
   "execution_count": 1,
   "id": "c8da4551-944a-4c91-8242-7c2e5f2aa8db",
   "metadata": {},
   "outputs": [],
   "source": [
    "#Ans-1  Flask is a microframework for developers, designed \n",
    "# to enable them to create and scale web apps quickly and simply.\n",
    "#ADVANTAGES OF FLASK FRAMEWORK:-\n",
    "#It is a lightweight framework that offers hassle-free development.\n",
    "#Provide flexibility to the developer to experiment with their modules or architecture.\n",
    "#It is suitable for small projects.\n",
    "#Offers a built-in development server and fast debugger.\n",
    "#Easily scalable for the applications.\n",
    "#Support for secure cookies\n"
   ]
  },
  {
   "cell_type": "code",
   "execution_count": 2,
   "id": "f59ed12c-8e64-47c2-aba9-ebf9d405dd61",
   "metadata": {},
   "outputs": [],
   "source": [
    "#Ans- 3 App routing is the technique used to map the specific URL\n",
    "#with the associated function intended to perform some task.\n",
    "#The Latest Web frameworks use the routing technique to help\n",
    "#users remember application URLs. It is helpful to access \n",
    "#the desired page directly without navigating from the home page."
   ]
  },
  {
   "cell_type": "code",
   "execution_count": 3,
   "id": "85cddaaf-726b-4c64-ad28-d5bde727cf99",
   "metadata": {},
   "outputs": [],
   "source": [
    "#ans- 4 @app.route(\"/\")\n",
    "#def welcome1():\n",
    "    #return\"<h1> Company Name: ABC Corporation Location:India  Contact Detail:999-999-999 <h1> \"\n",
    "    \n",
    "#@app.route(\"/welcome\")\n",
    "#def welcome():\n",
    "    #return \"<h1>Welcome to ABC Corporation<h1>\"\n",
    "    \n",
    "#FOR OUTPUTS CHECK SCREENSHOT  (ATTACHED)"
   ]
  },
  {
   "cell_type": "code",
   "execution_count": null,
   "id": "66c1e3d9-af6b-4eca-8d05-2fac8c1b369d",
   "metadata": {},
   "outputs": [],
   "source": [
    "#Ans-5 Flask is a web framework in Python. It is called a \n",
    "#microframework since it doesn't require any particular tools\n",
    "#or libraries to compile Flask files. The url_for() function \n",
    "#is used to build a URL to the specific function dynamically.\n",
    "\n",
    "#@app.route('/<variable>/add', methods=['GET', 'POST'])\n",
    "#def add(variable):\n",
    "    url_for('add', variable=foo)\n",
    "\n",
    "@app.route('/<variable>/remove', methods=['GET', 'POST'])\n",
    "def remove(variable):\n",
    "    url_for('remove', variable=foo)"
   ]
  }
 ],
 "metadata": {
  "kernelspec": {
   "display_name": "Python 3 (ipykernel)",
   "language": "python",
   "name": "python3"
  },
  "language_info": {
   "codemirror_mode": {
    "name": "ipython",
    "version": 3
   },
   "file_extension": ".py",
   "mimetype": "text/x-python",
   "name": "python",
   "nbconvert_exporter": "python",
   "pygments_lexer": "ipython3",
   "version": "3.10.8"
  }
 },
 "nbformat": 4,
 "nbformat_minor": 5
}
